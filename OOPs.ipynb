{
  "nbformat": 4,
  "nbformat_minor": 0,
  "metadata": {
    "colab": {
      "provenance": []
    },
    "kernelspec": {
      "name": "python3",
      "display_name": "Python 3"
    },
    "language_info": {
      "name": "python"
    }
  },
  "cells": [
    {
      "cell_type": "markdown",
      "source": [
        "1. What is Object-Oriented Programming (OOP)?"
      ],
      "metadata": {
        "id": "WgEu9QDVzoJe"
      }
    },
    {
      "cell_type": "markdown",
      "source": [
        "- Object-Oriented Programming (OOP) is a programming style where code is organized into objects—bundles of data (attributes) and functions (methods) that operate on that data.\n",
        "\n",
        "Core Concepts:\n",
        "a) Class: Blueprint for creating objects.\n",
        "\n",
        "b) Object: Instance of a class.\n",
        "\n",
        "c) Encapsulation: Hides internal details; keeps data safe.\n",
        "\n",
        "d) Inheritance: Reuses code from other classes.\n",
        "\n",
        "e) Polymorphism: Same method works differently for different objects.\n",
        "\n",
        "f) Abstraction: Hides complexity; shows only necessary details."
      ],
      "metadata": {
        "id": "ionrcaKuz0UC"
      }
    },
    {
      "cell_type": "code",
      "source": [
        "class Car:\n",
        "    def __init__(self, brand): self.brand = brand\n",
        "    def drive(self): print(f\"{self.brand} is driving\")\n"
      ],
      "metadata": {
        "id": "ROKuA5CS0lVH"
      },
      "execution_count": 1,
      "outputs": []
    },
    {
      "cell_type": "markdown",
      "source": [
        "2. What is a class in OOP"
      ],
      "metadata": {
        "id": "rZ4JPMmC0p6o"
      }
    },
    {
      "cell_type": "markdown",
      "source": [
        "- a) A blueprint or template for creating objects.\n",
        "\n",
        "b) Defines what attributes and methods the object will have."
      ],
      "metadata": {
        "id": "jU984zKf0yS7"
      }
    },
    {
      "cell_type": "code",
      "source": [
        "class Dog:\n",
        "    def __init__(self, name):\n",
        "        self.name = name\n",
        "\n",
        "    def bark(self):\n",
        "        print(f\"{self.name} says woof!\")\n"
      ],
      "metadata": {
        "id": "E8I3Ql9C1Lbg"
      },
      "execution_count": 3,
      "outputs": []
    },
    {
      "cell_type": "markdown",
      "source": [
        "3. What is an object in OOP"
      ],
      "metadata": {
        "id": "WyPtYdQu1PIr"
      }
    },
    {
      "cell_type": "markdown",
      "source": [
        "- It represents a real-world entity with:\n",
        "\n",
        "a) Attributes (data/state)\n",
        "\n",
        "b) Methods (behavior/functions)\n",
        "\n"
      ],
      "metadata": {
        "id": "IsXDE6xU1Xx7"
      }
    },
    {
      "cell_type": "code",
      "source": [
        "class Car:\n",
        "    def __init__(self, brand):\n",
        "        self.brand = brand\n",
        "\n",
        "    def drive(self):\n",
        "        print(f\"{self.brand} is driving\")\n"
      ],
      "metadata": {
        "id": "ZwfUQRc71gCb"
      },
      "execution_count": 4,
      "outputs": []
    },
    {
      "cell_type": "markdown",
      "source": [
        "4. What is the difference between abstraction and encapsulation"
      ],
      "metadata": {
        "id": "h-dsH9Kj1rjU"
      }
    },
    {
      "cell_type": "markdown",
      "source": [
        "- Abstraction\n",
        "a) Definition :\tHides complex implementation details and shows only essential features\n",
        "b) Focus: Focuses on what an object does\n",
        "c) Purpose :\tTo reduce complexity and increase usability\n",
        "d) How it works : Achieved via abstract classes or interfaces\n",
        "e) Example :\tYou use a car’s steering wheel without knowing how it works internally"
      ],
      "metadata": {
        "id": "rPkHI2Fw1tmS"
      }
    },
    {
      "cell_type": "markdown",
      "source": [
        "- Encapsulation\n",
        "a) Definition : Hides the internal state and protects data from outside interference\n",
        "b)  Focus: \tFocuses on how data is stored/managed\n",
        "c) Purpose :  To safeguard the data and control access\n",
        "d) How it works : Achieved using access modifiers (private, public, etc.)\n",
        "e) Example : You can’t directly change a car's engine settings from outside"
      ],
      "metadata": {
        "id": "OVfMMvbk23yv"
      }
    },
    {
      "cell_type": "markdown",
      "source": [
        "5. What are dunder methods in Python"
      ],
      "metadata": {
        "id": "mx4hUVAE46aP"
      }
    },
    {
      "cell_type": "markdown",
      "source": [
        "- Dunder methods (short for \"double underscore\" methods) are special methods in Python with names that begin and end with double underscores, like __init__, __str__, __len__, etc.\n",
        "\n",
        "They are also known as:\n",
        "\n",
        "Magic methods\n",
        "\n",
        "Special methods\n",
        "\n"
      ],
      "metadata": {
        "id": "DSUiAPar5Gy_"
      }
    },
    {
      "cell_type": "code",
      "source": [
        "class Book:\n",
        "    def __init__(self, title):\n",
        "        self.title = title\n",
        "\n",
        "    def __str__(self):\n",
        "        return f\"Book: {self.title}\"\n",
        "\n",
        "    def __len__(self):\n",
        "        return len(self.title)\n",
        "\n",
        "book = Book(\"Python Basics\")\n",
        "print(book)\n",
        "print(len(book))\n"
      ],
      "metadata": {
        "colab": {
          "base_uri": "https://localhost:8080/"
        },
        "id": "TTVUOF0C7Aqu",
        "outputId": "cae39e53-5f75-47d2-8396-9816bff9ca6c"
      },
      "execution_count": 5,
      "outputs": [
        {
          "output_type": "stream",
          "name": "stdout",
          "text": [
            "Book: Python Basics\n",
            "13\n"
          ]
        }
      ]
    },
    {
      "cell_type": "markdown",
      "source": [
        "6. Explain the concept of inheritance in OOP"
      ],
      "metadata": {
        "id": "sT4NQS1N7G_T"
      }
    },
    {
      "cell_type": "markdown",
      "source": [
        "- Inheritance lets a child class use code from a parent class.\n",
        "It helps with code reuse, organization, and models \"is-a\" relationships.\n",
        "\n"
      ],
      "metadata": {
        "id": "IllsIxWX7QjP"
      }
    },
    {
      "cell_type": "code",
      "source": [
        "class Animal:\n",
        "    def speak(self):\n",
        "        print(\"Animal sound\")\n",
        "\n",
        "class Dog(Animal):\n",
        "    def speak(self):\n",
        "        print(\"Dog barks\")\n",
        "\n",
        "d = Dog()\n",
        "d.speak()\n"
      ],
      "metadata": {
        "colab": {
          "base_uri": "https://localhost:8080/"
        },
        "id": "a12hhrga7d0F",
        "outputId": "bf72e581-74b3-4de8-f8c5-b17bc4d4270c"
      },
      "execution_count": 6,
      "outputs": [
        {
          "output_type": "stream",
          "name": "stdout",
          "text": [
            "Dog barks\n"
          ]
        }
      ]
    },
    {
      "cell_type": "markdown",
      "source": [
        "7. What is polymorphism in OOP"
      ],
      "metadata": {
        "id": "SUcW6c_a7jzm"
      }
    },
    {
      "cell_type": "markdown",
      "source": [
        "- Polymorphism means \"many forms\" — it allows objects of different classes to be used through the same interface, typically by overriding methods.\n",
        "\n"
      ],
      "metadata": {
        "id": "9_CL3nSb7rMq"
      }
    },
    {
      "cell_type": "code",
      "source": [
        "class Animal:\n",
        "    def speak(self):\n",
        "        print(\"Animal sound\")\n",
        "\n",
        "class Dog(Animal):\n",
        "    def speak(self):\n",
        "        print(\"Dog barks\")\n",
        "\n",
        "class Cat(Animal):\n",
        "    def speak(self):\n",
        "        print(\"Cat meows\")\n",
        "\n",
        "# Polymorphic behavior\n",
        "def make_sound(animal):\n",
        "    animal.speak()\n",
        "\n",
        "make_sound(Dog())\n",
        "make_sound(Cat())\n"
      ],
      "metadata": {
        "colab": {
          "base_uri": "https://localhost:8080/"
        },
        "id": "u7bHEsRk7zGg",
        "outputId": "240c0ae8-db3f-416a-f8be-83484a67feb6"
      },
      "execution_count": 7,
      "outputs": [
        {
          "output_type": "stream",
          "name": "stdout",
          "text": [
            "Dog barks\n",
            "Cat meows\n"
          ]
        }
      ]
    },
    {
      "cell_type": "markdown",
      "source": [
        "8. How is encapsulation achieved in Python"
      ],
      "metadata": {
        "id": "DtBw1FAS76kx"
      }
    },
    {
      "cell_type": "markdown",
      "source": [
        "- Encapsulation means hiding internal data and restricting direct access to it.\n",
        " it’s achieved using:\n",
        "\n"
      ],
      "metadata": {
        "id": "kwljz42K7-vX"
      }
    },
    {
      "cell_type": "markdown",
      "source": [
        " Private Attributes/Methods\n",
        "Use underscores to indicate restricted access:\n",
        "\n",
        "_single_underscore: Protected (convention only)\n",
        "\n",
        "__double_underscore: Private (name mangling)"
      ],
      "metadata": {
        "id": "PfqZF5z33Daj"
      }
    },
    {
      "cell_type": "code",
      "source": [
        "class Person:\n",
        "    def __init__(self, name):\n",
        "        self._name = name\n",
        "        self.__secret = \"hidden\"\n",
        "\n",
        "    def get_secret(self):\n",
        "        return self.__secret\n",
        "\n",
        "p = Person(\"Alice\")\n",
        "print(p._name)\n",
        "# print(p.__secret)\n",
        "print(p.get_secret())\n"
      ],
      "metadata": {
        "colab": {
          "base_uri": "https://localhost:8080/"
        },
        "id": "npFqAT4n8eTy",
        "outputId": "cba19bd3-877b-4c5c-808f-663d0bbfe6e3"
      },
      "execution_count": 8,
      "outputs": [
        {
          "output_type": "stream",
          "name": "stdout",
          "text": [
            "Alice\n",
            "hidden\n"
          ]
        }
      ]
    },
    {
      "cell_type": "markdown",
      "source": [
        "Getter and Setter Methods\n",
        "Control access and modification:\n",
        "\n"
      ],
      "metadata": {
        "id": "oEl8OzwV8slm"
      }
    },
    {
      "cell_type": "code",
      "source": [
        "class BankAccount:\n",
        "    def __init__(self):\n",
        "        self.__balance = 0\n",
        "\n",
        "    def get_balance(self):\n",
        "        return self.__balance\n",
        "\n",
        "    def deposit(self, amount):\n",
        "        if amount > 0:\n",
        "            self.__balance += amount\n",
        "\n",
        "account = BankAccount()\n",
        "account.deposit(100)\n",
        "print(account.get_balance())\n"
      ],
      "metadata": {
        "colab": {
          "base_uri": "https://localhost:8080/"
        },
        "id": "GpoZUP558zJz",
        "outputId": "f3f34818-bad9-4df9-e3ba-61140df0d9cb"
      },
      "execution_count": 9,
      "outputs": [
        {
          "output_type": "stream",
          "name": "stdout",
          "text": [
            "100\n"
          ]
        }
      ]
    },
    {
      "cell_type": "markdown",
      "source": [
        "9. What is a constructor in Python"
      ],
      "metadata": {
        "id": "I59ybWa585Qu"
      }
    },
    {
      "cell_type": "markdown",
      "source": [
        "- A constructor is a special method that runs automatically when an object is created.\n",
        "It initializes the object’s attributes.\n",
        "\n",
        "In Python, the constructor method is called __init__."
      ],
      "metadata": {
        "id": "V-AxPbsq9Am1"
      }
    },
    {
      "cell_type": "code",
      "source": [
        "class Person:\n",
        "    def __init__(self, name):\n",
        "        self.name = name\n",
        "\n",
        "p = Person(\"Alice\")\n",
        "print(p.name)\n"
      ],
      "metadata": {
        "colab": {
          "base_uri": "https://localhost:8080/"
        },
        "id": "NvfBg53G9TvM",
        "outputId": "a925519f-53ad-42f8-fd72-e5ecaa06085f"
      },
      "execution_count": 10,
      "outputs": [
        {
          "output_type": "stream",
          "name": "stdout",
          "text": [
            "Alice\n"
          ]
        }
      ]
    },
    {
      "cell_type": "markdown",
      "source": [
        "10. What are class and static methods in Python"
      ],
      "metadata": {
        "id": "2quxsdZp9hGL"
      }
    },
    {
      "cell_type": "markdown",
      "source": [
        "- Class Method\n",
        "Uses the decorator @classmethod\n",
        "\n",
        "Takes cls (the class itself) as the first parameter\n",
        "\n",
        "Can access and modify class state (class variables)\n",
        "\n",
        "Called on the class or instance\n",
        "\n"
      ],
      "metadata": {
        "id": "zxj9CNAo9rBa"
      }
    },
    {
      "cell_type": "code",
      "source": [
        "class MyClass:\n",
        "    count = 0\n",
        "\n",
        "    @classmethod\n",
        "    def increment_count(cls):\n",
        "        cls.count += 1\n",
        "\n",
        "MyClass.increment_count()\n",
        "print(MyClass.count)\n"
      ],
      "metadata": {
        "colab": {
          "base_uri": "https://localhost:8080/"
        },
        "id": "kaorhhM090gU",
        "outputId": "995ae4e0-17b1-4c2f-f15e-6950288e63c7"
      },
      "execution_count": 11,
      "outputs": [
        {
          "output_type": "stream",
          "name": "stdout",
          "text": [
            "1\n"
          ]
        }
      ]
    },
    {
      "cell_type": "markdown",
      "source": [
        "- Static Method\n",
        "Uses the decorator @staticmethod\n",
        "\n",
        "Does not take self or cls as parameters\n",
        "\n",
        "Like a regular function inside a class namespace\n",
        "\n",
        "Cannot access instance or class data directly\n",
        "\n"
      ],
      "metadata": {
        "id": "OTKkS1LA9843"
      }
    },
    {
      "cell_type": "code",
      "source": [
        "class Math:\n",
        "    @staticmethod\n",
        "    def add(a, b):\n",
        "        return a + b\n",
        "\n",
        "print(Math.add(3, 5))\n"
      ],
      "metadata": {
        "colab": {
          "base_uri": "https://localhost:8080/"
        },
        "id": "4691_4tS-Fqs",
        "outputId": "2433d00e-9c44-467d-eb2d-78985f4630be"
      },
      "execution_count": 12,
      "outputs": [
        {
          "output_type": "stream",
          "name": "stdout",
          "text": [
            "8\n"
          ]
        }
      ]
    },
    {
      "cell_type": "markdown",
      "source": [
        "11. What is method overloading in Python"
      ],
      "metadata": {
        "id": "t08Ql7TU-KWF"
      }
    },
    {
      "cell_type": "markdown",
      "source": [
        "- Python does NOT support traditional method overloading (same method name, different parameters).\n",
        "\n",
        "Defining a method twice overwrites the first one.\n",
        "\n",
        "Use default parameters or *args to handle different inputs in one method."
      ],
      "metadata": {
        "id": "MnzjjaSA-OOM"
      }
    },
    {
      "cell_type": "code",
      "source": [
        "class Math:\n",
        "    def add(self, a, b=0):\n",
        "        return a + b\n",
        "\n",
        "m = Math()\n",
        "print(m.add(5))\n",
        "print(m.add(5, 3))\n"
      ],
      "metadata": {
        "colab": {
          "base_uri": "https://localhost:8080/"
        },
        "id": "1M2SpGdZ-i4F",
        "outputId": "4c52a3ba-896d-4ae6-fadc-d613eae285f2"
      },
      "execution_count": 13,
      "outputs": [
        {
          "output_type": "stream",
          "name": "stdout",
          "text": [
            "5\n",
            "8\n"
          ]
        }
      ]
    },
    {
      "cell_type": "code",
      "source": [
        "def add(self, *args):\n",
        "    return sum(args)\n"
      ],
      "metadata": {
        "id": "D25QElv4-puw"
      },
      "execution_count": 14,
      "outputs": []
    },
    {
      "cell_type": "markdown",
      "source": [
        "12. What is method overriding in OOP"
      ],
      "metadata": {
        "id": "8jzrh27h-tNN"
      }
    },
    {
      "cell_type": "markdown",
      "source": [
        "- A child class redefines a method from its parent class to change its behavior"
      ],
      "metadata": {
        "id": "ObB50NDk-0AM"
      }
    },
    {
      "cell_type": "code",
      "source": [
        "class Animal:\n",
        "    def speak(self):\n",
        "        print(\"Animal sound\")\n",
        "\n",
        "class Dog(Animal):\n",
        "    def speak(self):\n",
        "        print(\"Dog barks\")\n",
        "\n",
        "Dog().speak()\n"
      ],
      "metadata": {
        "colab": {
          "base_uri": "https://localhost:8080/"
        },
        "id": "RhUQGDSW-9Dy",
        "outputId": "59d3c87e-0b10-4add-fad0-dcdd6ba1f5bf"
      },
      "execution_count": 15,
      "outputs": [
        {
          "output_type": "stream",
          "name": "stdout",
          "text": [
            "Dog barks\n"
          ]
        }
      ]
    },
    {
      "cell_type": "markdown",
      "source": [
        "Child method replaces parent method for child objects."
      ],
      "metadata": {
        "id": "nNccvLvE_Hba"
      }
    },
    {
      "cell_type": "markdown",
      "source": [
        "13. What is a property decorator in Python"
      ],
      "metadata": {
        "id": "9_7s0LdZ_Kil"
      }
    },
    {
      "cell_type": "markdown",
      "source": [
        "- @property lets you access a method like an attribute, adding control over getting/setting values."
      ],
      "metadata": {
        "id": "kw2erFlm_ROm"
      }
    },
    {
      "cell_type": "code",
      "source": [
        "class Person:\n",
        "    def __init__(self, name):\n",
        "        self._name = name\n",
        "\n",
        "    @property\n",
        "    def name(self):\n",
        "        return self._name\n",
        "\n",
        "    @name.setter\n",
        "    def name(self, value):\n",
        "        if not value:\n",
        "            raise ValueError(\"Name can't be empty\")\n",
        "        self._name = value\n",
        "\n",
        "p = Person(\"Alice\")\n",
        "print(p.name)\n",
        "p.name = \"Bob\"\n"
      ],
      "metadata": {
        "colab": {
          "base_uri": "https://localhost:8080/"
        },
        "id": "TKPlzS9O_suJ",
        "outputId": "49e8b596-e5b5-410e-ca88-10c1b6767bf8"
      },
      "execution_count": 16,
      "outputs": [
        {
          "output_type": "stream",
          "name": "stdout",
          "text": [
            "Alice\n"
          ]
        }
      ]
    },
    {
      "cell_type": "markdown",
      "source": [
        "14. Why is polymorphism important in OOP\n",
        "\n"
      ],
      "metadata": {
        "id": "iKwNebVeACXc"
      }
    },
    {
      "cell_type": "markdown",
      "source": [
        "- Flexibility: Lets different objects be treated the same way through a common interface.\n",
        "\n",
        "Code Reusability: Write general code that works with multiple object types.\n",
        "\n",
        "Extensibility: Easily add new object types without changing existing code.\n",
        "\n",
        "Simplifies Code: Reduces complex conditional logic by relying on overridden methods.\n",
        "\n"
      ],
      "metadata": {
        "id": "Wy_nwsu-AOxh"
      }
    },
    {
      "cell_type": "markdown",
      "source": [
        "15. What is an abstract class in Python"
      ],
      "metadata": {
        "id": "7i8C0QX0Aakj"
      }
    },
    {
      "cell_type": "markdown",
      "source": [
        "- An abstract class is a class that can’t be instantiated on its own and is meant to be a blueprint for other classes.\n",
        "\n",
        "It can have abstract methods that must be implemented by subclasses.\n",
        "\n",
        "Defined using the abc module and @abstractmethod decorator."
      ],
      "metadata": {
        "id": "IkUG00RxAtIO"
      }
    },
    {
      "cell_type": "code",
      "source": [
        "from abc import ABC, abstractmethod\n",
        "\n",
        "class Animal(ABC):\n",
        "    @abstractmethod\n",
        "    def speak(self):\n",
        "        pass\n",
        "\n",
        "class Dog(Animal):\n",
        "    def speak(self):\n",
        "        print(\"Dog barks\")\n",
        "\n",
        "# a = Animal()\n",
        "d = Dog()\n",
        "d.speak()\n"
      ],
      "metadata": {
        "colab": {
          "base_uri": "https://localhost:8080/"
        },
        "id": "KXMR78TfAufk",
        "outputId": "4fbc413e-0e3a-45a9-91fc-73ca7a1943ac"
      },
      "execution_count": 17,
      "outputs": [
        {
          "output_type": "stream",
          "name": "stdout",
          "text": [
            "Dog barks\n"
          ]
        }
      ]
    },
    {
      "cell_type": "markdown",
      "source": [
        "16. What are the advantages of OOP"
      ],
      "metadata": {
        "id": "hP8HJo7QA6Z_"
      }
    },
    {
      "cell_type": "markdown",
      "source": [
        "- Modularity\n",
        "Code is organized into independent objects, making it easier to manage.\n",
        "\n",
        "Reusability\n",
        "Classes and objects can be reused across different programs.\n",
        "\n",
        "Scalability\n",
        "Easy to expand and maintain large codebases.\n",
        "\n",
        "Encapsulation\n",
        "Protects data by hiding internal details.\n",
        "\n",
        "Inheritance\n",
        "Enables new classes to reuse, extend, and modify existing code.\n",
        "\n",
        "Polymorphism\n",
        "Allows one interface to work with different data types or classes, simplifying code.\n",
        "\n",
        "Improved Maintainability\n",
        "Clear structure and modular design make debugging and updates easier."
      ],
      "metadata": {
        "id": "vjAWr8yzBSku"
      }
    },
    {
      "cell_type": "markdown",
      "source": [
        "17. What is the difference between a class variable and an instance variable"
      ],
      "metadata": {
        "id": "D-t-au_DBYCx"
      }
    },
    {
      "cell_type": "markdown",
      "source": [
        "- Feature\tClass Variable\tInstance Variable\n",
        "Belongs to\tThe class itself\tEach object/instance of the class\n",
        "Shared by\tAll instances of the class\tUnique to each instance\n",
        "Defined\tInside the class but outside methods\tInside methods, usually in __init__\n",
        "Use case\tStore data common to all objects\tStore data unique to each object"
      ],
      "metadata": {
        "id": "r4ozGwA5Bdy4"
      }
    },
    {
      "cell_type": "code",
      "source": [
        "class Car:\n",
        "    wheels = 4\n",
        "\n",
        "    def __init__(self, color):\n",
        "        self.color = color\n"
      ],
      "metadata": {
        "id": "gFx28ZYAB89O"
      },
      "execution_count": 18,
      "outputs": []
    },
    {
      "cell_type": "markdown",
      "source": [
        "wheels: same for all cars\n",
        "\n",
        "color: different per car\n"
      ],
      "metadata": {
        "id": "uCZ1oPM6CICB"
      }
    },
    {
      "cell_type": "markdown",
      "source": [
        "18. What is multiple inheritance in Python"
      ],
      "metadata": {
        "id": "rTeNGdDYCOzx"
      }
    },
    {
      "cell_type": "markdown",
      "source": [
        "- Multiple inheritance means a class can inherit from more than one parent class.\n",
        "\n",
        "Why use it:\n",
        "To combine features and behaviors from multiple classes into one.\n",
        "\n"
      ],
      "metadata": {
        "id": "DkPqrz22CXZX"
      }
    },
    {
      "cell_type": "code",
      "source": [
        "class Flyer:\n",
        "    def fly(self):\n",
        "        print(\"Flying\")\n",
        "\n",
        "class Swimmer:\n",
        "    def swim(self):\n",
        "        print(\"Swimming\")\n",
        "\n",
        "class Duck(Flyer, Swimmer):\n",
        "    pass\n",
        "\n",
        "d = Duck()\n",
        "d.fly()\n",
        "d.swim()\n"
      ],
      "metadata": {
        "colab": {
          "base_uri": "https://localhost:8080/"
        },
        "id": "Uxu71RbnCim3",
        "outputId": "520d5403-258c-43c0-86c9-53e304db5f31"
      },
      "execution_count": 19,
      "outputs": [
        {
          "output_type": "stream",
          "name": "stdout",
          "text": [
            "Flying\n",
            "Swimming\n"
          ]
        }
      ]
    },
    {
      "cell_type": "markdown",
      "source": [
        "19. Explain the purpose of ‘’__str__’ and ‘__repr__’ ‘ methods in Python"
      ],
      "metadata": {
        "id": "VRJhgJ4OCqKU"
      }
    },
    {
      "cell_type": "markdown",
      "source": [
        "- The `__str__` and `__repr__` methods in Python both provide string representations of an object but serve different purposes. The `__str__` method returns a user-friendly, readable string intended for end-users, and it is what gets called by functions like `print()` and `str()`. On the other hand, `__repr__` returns an official, detailed string representation meant for developers, often used in debugging, and is called by `repr()` and shown in the interactive shell. While `__str__` focuses on being clear and concise for display, `__repr__` aims to provide a string that, ideally, could be used to recreate the object.\n"
      ],
      "metadata": {
        "id": "ZaG6PEvcCw8m"
      }
    },
    {
      "cell_type": "code",
      "source": [
        "class Person:\n",
        "    def __init__(self, name):\n",
        "        self.name = name\n",
        "\n",
        "    def __str__(self):\n",
        "        return f\"Person named {self.name}\"\n",
        "\n",
        "    def __repr__(self):\n",
        "        return f\"Person(name='{self.name}')\"\n",
        "\n",
        "p = Person(\"Alice\")\n",
        "print(str(p))\n",
        "print(repr(p))\n"
      ],
      "metadata": {
        "colab": {
          "base_uri": "https://localhost:8080/"
        },
        "id": "ei8MEIctC7MB",
        "outputId": "cfe26e5b-53e3-46ba-8ec4-66741bfa8406"
      },
      "execution_count": 20,
      "outputs": [
        {
          "output_type": "stream",
          "name": "stdout",
          "text": [
            "Person named Alice\n",
            "Person(name='Alice')\n"
          ]
        }
      ]
    },
    {
      "cell_type": "markdown",
      "source": [
        "20. What is the significance of the ‘super()’ function in Python"
      ],
      "metadata": {
        "id": "p8NUG1MXDb3u"
      }
    },
    {
      "cell_type": "markdown",
      "source": [
        "- The super() function is used to call a method from a parent (super) class inside a child class. It helps to:\n",
        "\n",
        "Access and extend functionality of the parent class without explicitly naming it.\n",
        "\n",
        "Support multiple inheritance by following the Method Resolution Order (MRO).\n",
        "\n",
        "Avoid repeating code by reusing parent class methods."
      ],
      "metadata": {
        "id": "tcxT4FfWDrOt"
      }
    },
    {
      "cell_type": "code",
      "source": [
        "class Animal:\n",
        "    def speak(self):\n",
        "        print(\"Animal speaks\")\n",
        "\n",
        "class Dog(Animal):\n",
        "    def speak(self):\n",
        "        super().speak()\n",
        "        print(\"Dog barks\")\n",
        "\n",
        "d = Dog()\n",
        "d.speak()\n"
      ],
      "metadata": {
        "colab": {
          "base_uri": "https://localhost:8080/"
        },
        "id": "o8pQsUTIDwoO",
        "outputId": "c5f64472-cde5-4951-90b8-d35972e3a1bc"
      },
      "execution_count": 21,
      "outputs": [
        {
          "output_type": "stream",
          "name": "stdout",
          "text": [
            "Animal speaks\n",
            "Dog barks\n"
          ]
        }
      ]
    },
    {
      "cell_type": "markdown",
      "source": [
        "21. What is the significance of the __del__ method in Python"
      ],
      "metadata": {
        "id": "g3FtNAvRD50D"
      }
    },
    {
      "cell_type": "markdown",
      "source": [
        "- The __del__ method is a destructor that is called when an object is about to be destroyed (garbage collected).\n",
        "\n",
        "Purpose:\n",
        "Used to clean up resources (like closing files or network connections) before the object is removed.\n",
        "\n",
        "Helps manage resource release automatically"
      ],
      "metadata": {
        "id": "gcmzuajfD_9b"
      }
    },
    {
      "cell_type": "code",
      "source": [
        "class FileHandler:\n",
        "    def __init__(self, filename):\n",
        "        self.file = open(filename, 'w')\n",
        "\n",
        "    def __del__(self):\n",
        "        self.file.close()\n",
        "        print(\"File closed\")\n",
        "\n",
        "fh = FileHandler(\"test.txt\")\n",
        "del fh\n"
      ],
      "metadata": {
        "colab": {
          "base_uri": "https://localhost:8080/"
        },
        "id": "WFcoxQ67EH7m",
        "outputId": "e9ede7e5-b2f4-44c1-8d2f-48aa97d1b368"
      },
      "execution_count": 22,
      "outputs": [
        {
          "output_type": "stream",
          "name": "stdout",
          "text": [
            "File closed\n"
          ]
        }
      ]
    },
    {
      "cell_type": "markdown",
      "source": [
        "__del__ isn’t guaranteed to run immediately when an object goes out of scope, only when Python’s garbage collector destroys it.\n",
        "\n",
        "Use with care; relying solely on __del__ for critical cleanup is discouraged—prefer context managers (with statement) instead."
      ],
      "metadata": {
        "id": "C466xe1nEPEG"
      }
    },
    {
      "cell_type": "markdown",
      "source": [
        "22. What is the difference between @staticmethod and @classmethod in Python"
      ],
      "metadata": {
        "id": "QnR5LhKgES2P"
      }
    },
    {
      "cell_type": "markdown",
      "source": [
        "- @staticmethod and @classmethod differ mainly in how they receive their first argument and what they can access. A @staticmethod does not take any automatic first parameter, so it cannot access the class (cls) or instance (self). It's used for utility functions related to the class but that don’t need to access class or instance data. On the other hand, a @classmethod receives the class itself as the first parameter (cls), allowing it to access or modify class state. It cannot access instance data unless an instance is explicitly passed. Class methods are often used for factory methods or any behavior that involves the class rather than individual instances. Both static and class methods can be called on the class or its instances.\n",
        "\n",
        "\n",
        "\n",
        "\n"
      ],
      "metadata": {
        "id": "bDICKbpGEiUL"
      }
    },
    {
      "cell_type": "code",
      "source": [
        "class MyClass:\n",
        "    @staticmethod\n",
        "    def static_method():\n",
        "        print(\"I don't access class or instance\")\n",
        "\n",
        "    @classmethod\n",
        "    def class_method(cls):\n",
        "        print(f\"I have access to class: {cls}\")\n",
        "\n",
        "MyClass.static_method()\n",
        "MyClass.class_method()\n"
      ],
      "metadata": {
        "colab": {
          "base_uri": "https://localhost:8080/"
        },
        "id": "hWctBgonE0H6",
        "outputId": "d8ca0056-d653-4b9e-acfe-b720a4d0c866"
      },
      "execution_count": 23,
      "outputs": [
        {
          "output_type": "stream",
          "name": "stdout",
          "text": [
            "I don't access class or instance\n",
            "I have access to class: <class '__main__.MyClass'>\n"
          ]
        }
      ]
    },
    {
      "cell_type": "markdown",
      "source": [
        "23. How does polymorphism work in Python with inheritance"
      ],
      "metadata": {
        "id": "hQhefacIFFxp"
      }
    },
    {
      "cell_type": "markdown",
      "source": [
        "- Polymorphism in Python allows child classes to override methods of their parent class. When you call a method on an object, Python uses the version of the method that belongs to the actual class of the object, not necessarily the parent class.\n",
        "\n",
        "This means you can write code that works with a parent class reference but behaves differently depending on the child class instance it refers to."
      ],
      "metadata": {
        "id": "yoebb6CkFKV3"
      }
    },
    {
      "cell_type": "code",
      "source": [
        "class Animal:\n",
        "    def speak(self):\n",
        "        print(\"Animal speaks\")\n",
        "\n",
        "class Dog(Animal):\n",
        "    def speak(self):\n",
        "        print(\"Dog barks\")\n",
        "\n",
        "class Cat(Animal):\n",
        "    def speak(self):\n",
        "        print(\"Cat meows\")\n",
        "\n",
        "def make_animal_speak(animal):\n",
        "    animal.speak()\n",
        "\n",
        "make_animal_speak(Dog())\n",
        "make_animal_speak(Cat())\n"
      ],
      "metadata": {
        "colab": {
          "base_uri": "https://localhost:8080/"
        },
        "id": "x0rj9uUtFSZP",
        "outputId": "67f5ac93-c9e0-4db4-f962-62dca0900005"
      },
      "execution_count": 24,
      "outputs": [
        {
          "output_type": "stream",
          "name": "stdout",
          "text": [
            "Dog barks\n",
            "Cat meows\n"
          ]
        }
      ]
    },
    {
      "cell_type": "markdown",
      "source": [
        "24. What is method chaining in Python OOP"
      ],
      "metadata": {
        "id": "q7bGPQoDFame"
      }
    },
    {
      "cell_type": "markdown",
      "source": [
        "- Method chaining is a technique where multiple methods are called on the same object in a single line, one after another.\n",
        "\n",
        "How it works:\n",
        "Each method returns self (the object itself).\n",
        "\n",
        "This allows the next method to be called directly on the returned object.\n",
        "\n"
      ],
      "metadata": {
        "id": "B0NcpvueFhdJ"
      }
    },
    {
      "cell_type": "code",
      "source": [
        "class Car:\n",
        "    def start(self):\n",
        "        print(\"Car started\")\n",
        "        return self\n",
        "\n",
        "    def drive(self):\n",
        "        print(\"Car is driving\")\n",
        "        return self\n",
        "\n",
        "    def stop(self):\n",
        "        print(\"Car stopped\")\n",
        "        return self\n",
        "\n",
        "car = Car()\n",
        "car.start().drive().stop()\n"
      ],
      "metadata": {
        "colab": {
          "base_uri": "https://localhost:8080/"
        },
        "id": "5a8jeHsTF0kC",
        "outputId": "59414231-bb01-4c17-ecff-b1286e42844f"
      },
      "execution_count": 25,
      "outputs": [
        {
          "output_type": "stream",
          "name": "stdout",
          "text": [
            "Car started\n",
            "Car is driving\n",
            "Car stopped\n"
          ]
        },
        {
          "output_type": "execute_result",
          "data": {
            "text/plain": [
              "<__main__.Car at 0x7e315ab9e810>"
            ]
          },
          "metadata": {},
          "execution_count": 25
        }
      ]
    },
    {
      "cell_type": "markdown",
      "source": [
        "25. What is the purpose of the __call__ method in Python"
      ],
      "metadata": {
        "id": "ry2b2qSQF780"
      }
    },
    {
      "cell_type": "markdown",
      "source": [
        "- The __call__ method in Python allows instances of a class to be invoked or called as if they were regular functions. When this method is defined within a class, calling an object of that class (e.g., my_object()) automatically triggers the execution of the __call__ method.\n",
        "The primary purposes and benefits of using the __call__ method include:\n",
        "Creating Callable Objects:\n",
        "It enables objects to behave like functions, allowing for more flexible and reusable code. This is particularly useful when an object needs to encapsulate both data and a specific operation that can be directly invoked.\n",
        "Implementing Decorators:\n",
        "__call__ is frequently used in implementing class-based decorators, where the decorator itself is an instance of a class that modifies the behavior of a function or method.\n",
        "Function Factories:\n",
        "It can be used to create \"function factories,\" where an object generates and returns functions with specific behaviors based on internal state or parameters passed during the object's creation.\n",
        "Maintaining State in Callable Objects:\n",
        "Unlike simple functions, callable objects can maintain state between calls, which can be advantageous in scenarios requiring persistent data or complex internal logic.\n",
        "Encapsulating Functionality:\n",
        "It allows for the encapsulation of functionality within an object, promoting organized and maintainable code by combining data and the operations that act upon it."
      ],
      "metadata": {
        "id": "ohTa9KORGD8D"
      }
    },
    {
      "cell_type": "markdown",
      "source": [
        "Practical"
      ],
      "metadata": {
        "id": "-QT5AbsvGfV-"
      }
    },
    {
      "cell_type": "markdown",
      "source": [
        "1.  Create a parent class Animal with a method speak() that prints a generic message. Create a child class Dog\n",
        "that overrides the speak() method to print \"Bark!\"."
      ],
      "metadata": {
        "id": "Ad66lwS0Gjk_"
      }
    },
    {
      "cell_type": "code",
      "source": [
        "class Animal:\n",
        "    def speak(self):\n",
        "        print(\"This animal makes a sound.\")\n",
        "\n",
        "class Dog(Animal):\n",
        "    def speak(self):\n",
        "        print(\"Bark!\")\n",
        "\n",
        "# Example usage:\n",
        "animal = Animal()\n",
        "animal.speak()\n",
        "\n",
        "dog = Dog()\n",
        "dog.speak()\n"
      ],
      "metadata": {
        "colab": {
          "base_uri": "https://localhost:8080/"
        },
        "id": "O1tom2usG0-w",
        "outputId": "9ec8cdc7-4fb5-408f-de0e-18fba87745fa"
      },
      "execution_count": 26,
      "outputs": [
        {
          "output_type": "stream",
          "name": "stdout",
          "text": [
            "This animal makes a sound.\n",
            "Bark!\n"
          ]
        }
      ]
    },
    {
      "cell_type": "markdown",
      "source": [
        "2. Write a program to create an abstract class Shape with a method area(). Derive classes Circle and Rectangle\n",
        "from it and implement the area() method in both."
      ],
      "metadata": {
        "id": "F4mfsJB9HBLt"
      }
    },
    {
      "cell_type": "code",
      "source": [
        "from abc import ABC, abstractmethod\n",
        "import math\n",
        "\n",
        "class Shape(ABC):\n",
        "    @abstractmethod\n",
        "    def area(self):\n",
        "        pass\n",
        "\n",
        "class Circle(Shape):\n",
        "    def __init__(self, radius):\n",
        "        self.radius = radius\n",
        "\n",
        "    def area(self):\n",
        "        return math.pi * self.radius ** 2\n",
        "\n",
        "class Rectangle(Shape):\n",
        "    def __init__(self, width, height):\n",
        "        self.width = width\n",
        "        self.height = height\n",
        "\n",
        "    def area(self):\n",
        "        return self.width * self.height\n",
        "\n",
        "# Example usage:\n",
        "circle = Circle(5)\n",
        "print(f\"Area of Circle: {circle.area()}\")\n",
        "\n",
        "rectangle = Rectangle(4, 6)\n",
        "print(f\"Area of Rectangle: {rectangle.area()}\")\n"
      ],
      "metadata": {
        "colab": {
          "base_uri": "https://localhost:8080/"
        },
        "id": "Me17wgh0HGpS",
        "outputId": "267ce8fb-a96e-4f2b-fad9-4a153ea973e3"
      },
      "execution_count": 27,
      "outputs": [
        {
          "output_type": "stream",
          "name": "stdout",
          "text": [
            "Area of Circle: 78.53981633974483\n",
            "Area of Rectangle: 24\n"
          ]
        }
      ]
    },
    {
      "cell_type": "markdown",
      "source": [
        "3. Implement a multi-level inheritance scenario where a class Vehicle has an attribute type. Derive a class Car\n",
        "and further derive a class ElectricCar that adds a battery attribute."
      ],
      "metadata": {
        "id": "m2Oqhf9OHSnR"
      }
    },
    {
      "cell_type": "code",
      "source": [
        "# Base class\n",
        "class Vehicle:\n",
        "    def __init__(self, vehicle_type):\n",
        "        self.vehicle_type = vehicle_type\n",
        "\n",
        "    def display_info(self):\n",
        "        print(f\"Vehicle Type: {self.vehicle_type}\")\n",
        "\n",
        "# First derived class\n",
        "class Car(Vehicle):\n",
        "    def __init__(self, vehicle_type, brand):\n",
        "        super().__init__(vehicle_type)\n",
        "        self.brand = brand\n",
        "\n",
        "    def display_info(self):\n",
        "        super().display_info()\n",
        "        print(f\"Car Brand: {self.brand}\")\n",
        "\n",
        "# Second derived class (multi-level)\n",
        "class ElectricCar(Car):\n",
        "    def __init__(self, vehicle_type, brand, battery_capacity):\n",
        "        super().__init__(vehicle_type, brand)\n",
        "        self.battery_capacity = battery_capacity\n",
        "\n",
        "    def display_info(self):\n",
        "        super().display_info()\n",
        "        print(f\"Battery Capacity: {self.battery_capacity} kWh\")\n",
        "\n",
        "# Create an object of ElectricCar\n",
        "tesla = ElectricCar(\"Four-wheeler\", \"Tesla\", 75)\n",
        "\n",
        "# Display information\n",
        "tesla.display_info()"
      ],
      "metadata": {
        "colab": {
          "base_uri": "https://localhost:8080/"
        },
        "id": "2iyUlwRZKOpI",
        "outputId": "f81f5c05-360f-493b-99d5-1d963767ba51"
      },
      "execution_count": 31,
      "outputs": [
        {
          "output_type": "stream",
          "name": "stdout",
          "text": [
            "Vehicle Type: Four-wheeler\n",
            "Car Brand: Tesla\n",
            "Battery Capacity: 75 kWh\n"
          ]
        }
      ]
    },
    {
      "cell_type": "markdown",
      "source": [
        "4. Demonstrate polymorphism by creating a base class Bird with a method fly(). Create two derived classes\n",
        "Sparrow and Penguin that override the fly() method.\n"
      ],
      "metadata": {
        "id": "UU7Xv7vuH-Ty"
      }
    },
    {
      "cell_type": "code",
      "source": [
        "# Base class\n",
        "class Bird:\n",
        "    def fly(self):\n",
        "        print(\"This bird can fly\")\n",
        "\n",
        "# Derived class 1\n",
        "class Sparrow(Bird):\n",
        "    def fly(self):\n",
        "        print(\"Sparrow flies high in the sky\")\n",
        "\n",
        "# Derived class 2\n",
        "class Penguin(Bird):\n",
        "    def fly(self):\n",
        "        print(\"Penguins can't fly, they swim\")\n",
        "\n",
        "# Function to demonstrate polymorphism\n",
        "def flying_demo(bird):\n",
        "    bird.fly()\n",
        "\n",
        "# Creating objects of derived classes\n",
        "sparrow = Sparrow()\n",
        "penguin = Penguin()\n",
        "\n",
        "# Demonstrating polymorphism\n",
        "flying_demo(sparrow)\n",
        "flying_demo(penguin)"
      ],
      "metadata": {
        "colab": {
          "base_uri": "https://localhost:8080/"
        },
        "id": "s92q6grnJqPR",
        "outputId": "9f7dc0c0-27b2-4322-bec1-10826552d567"
      },
      "execution_count": 30,
      "outputs": [
        {
          "output_type": "stream",
          "name": "stdout",
          "text": [
            "Sparrow flies high in the sky\n",
            "Penguins can't fly, they swim\n"
          ]
        }
      ]
    },
    {
      "cell_type": "markdown",
      "source": [
        "5. Write a program to demonstrate encapsulation by creating a class BankAccount with private attributes\n",
        "balance and methods to deposit, withdraw, and check balance."
      ],
      "metadata": {
        "id": "mq4gHQ88KWrF"
      }
    },
    {
      "cell_type": "code",
      "source": [
        "class BankAccount:\n",
        "    def __init__(self, initial_balance=0):\n",
        "        self.__balance = initial_balance  # Private attribute\n",
        "\n",
        "    def deposit(self, amount):\n",
        "        if amount > 0:\n",
        "            self.__balance += amount\n",
        "            print(f\"Deposited: {amount}\")\n",
        "        else:\n",
        "            print(\"Deposit amount must be positive.\")\n",
        "\n",
        "    def withdraw(self, amount):\n",
        "        if 0 < amount <= self.__balance:\n",
        "            self.__balance -= amount\n",
        "            print(f\"Withdrew: {amount}\")\n",
        "        else:\n",
        "            print(\"Insufficient balance or invalid amount.\")\n",
        "\n",
        "    def check_balance(self):\n",
        "        print(f\"Current Balance: {self.__balance}\")\n",
        "\n",
        "\n",
        "# Example usage\n",
        "account = BankAccount(1000)\n",
        "account.check_balance()\n",
        "account.deposit(500)\n",
        "account.withdraw(300)\n",
        "account.check_balance()"
      ],
      "metadata": {
        "colab": {
          "base_uri": "https://localhost:8080/"
        },
        "id": "eMwX4PN4K23u",
        "outputId": "beba74f5-6a8e-4597-cfe6-100aa48b18bd"
      },
      "execution_count": 32,
      "outputs": [
        {
          "output_type": "stream",
          "name": "stdout",
          "text": [
            "Current Balance: 1000\n",
            "Deposited: 500\n",
            "Withdrew: 300\n",
            "Current Balance: 1200\n"
          ]
        }
      ]
    },
    {
      "cell_type": "markdown",
      "source": [
        "6. Demonstrate runtime polymorphism using a method play() in a base class Instrument. Derive classes Guitar\n",
        "and Piano that implement their own version of play()."
      ],
      "metadata": {
        "id": "q6IYJ5xSLBGe"
      }
    },
    {
      "cell_type": "code",
      "source": [
        "# Base class\n",
        "class Instrument:\n",
        "    def play(self):\n",
        "        print(\"Playing some instrument.\")\n",
        "\n",
        "# Derived class 1\n",
        "class Guitar(Instrument):\n",
        "    def play(self):\n",
        "        print(\"Strumming the guitar.\")\n",
        "\n",
        "# Derived class 2\n",
        "class Piano(Instrument):\n",
        "    def play(self):\n",
        "        print(\"Playing the piano.\")\n",
        "\n",
        "# Demonstration of runtime polymorphism\n",
        "def play_instrument(instrument: Instrument):\n",
        "    instrument.play()\n",
        "\n",
        "# Create instances of derived classes\n",
        "guitar = Guitar()\n",
        "piano = Piano()\n",
        "\n",
        "# Use base class reference to call overridden methods\n",
        "play_instrument(guitar)\n",
        "play_instrument(piano)\n"
      ],
      "metadata": {
        "colab": {
          "base_uri": "https://localhost:8080/"
        },
        "id": "fUcPaz42DrMq",
        "outputId": "f4c21b84-7468-4393-8e0c-592beeecabb2"
      },
      "execution_count": 1,
      "outputs": [
        {
          "output_type": "stream",
          "name": "stdout",
          "text": [
            "Strumming the guitar.\n",
            "Playing the piano.\n"
          ]
        }
      ]
    },
    {
      "cell_type": "markdown",
      "source": [
        "7. Create a class MathOperations with a class method add_numbers() to add two numbers and a static\n",
        "method subtract_numbers() to subtract two numbers"
      ],
      "metadata": {
        "id": "YY5zJGbcLH1o"
      }
    },
    {
      "cell_type": "code",
      "source": [
        "class MathOperations:\n",
        "    # Class method to add two numbers\n",
        "    @classmethod\n",
        "    def add_numbers(cls, a, b):\n",
        "        return a + b\n",
        "\n",
        "    # Static method to subtract two numbers\n",
        "    @staticmethod\n",
        "    def subtract_numbers(a, b):\n",
        "        return a - b\n",
        "\n",
        "# Using the class method\n",
        "sum_result = MathOperations.add_numbers(10, 5)\n",
        "print(\"Sum:\", sum_result)\n",
        "\n",
        "# Using the static method\n",
        "difference = MathOperations.subtract_numbers(10, 5)\n",
        "print(\"Difference:\", difference)\n"
      ],
      "metadata": {
        "colab": {
          "base_uri": "https://localhost:8080/"
        },
        "id": "CAvKf29-D9NO",
        "outputId": "0c79891b-d559-4cb3-f3d0-9a5e3eb55849"
      },
      "execution_count": 2,
      "outputs": [
        {
          "output_type": "stream",
          "name": "stdout",
          "text": [
            "Sum: 15\n",
            "Difference: 5\n"
          ]
        }
      ]
    },
    {
      "cell_type": "markdown",
      "source": [
        "8. Implement a class Person with a class method to count the total number of persons created"
      ],
      "metadata": {
        "id": "HRsQFrJhLMEx"
      }
    },
    {
      "cell_type": "code",
      "source": [
        "class Person:\n",
        "    # Class variable to store the count of persons\n",
        "    person_count = 0\n",
        "\n",
        "    def __init__(self, name):\n",
        "        self.name = name\n",
        "        # Increment the counter whenever a new Person is created\n",
        "        Person.person_count += 1\n",
        "\n",
        "    # Class method to get the total number of persons\n",
        "    @classmethod\n",
        "    def get_person_count(cls):\n",
        "        return cls.person_count\n",
        "\n",
        "# Creating Person objects\n",
        "p1 = Person(\"Alice\")\n",
        "p2 = Person(\"Bob\")\n",
        "p3 = Person(\"Charlie\")\n",
        "\n",
        "# Get total number of persons created\n",
        "print(\"Total persons created:\", Person.get_person_count())\n"
      ],
      "metadata": {
        "colab": {
          "base_uri": "https://localhost:8080/"
        },
        "id": "pRsMJhs4ENWS",
        "outputId": "228a7d0c-abe6-4f28-e17c-ba2407c11dc4"
      },
      "execution_count": 3,
      "outputs": [
        {
          "output_type": "stream",
          "name": "stdout",
          "text": [
            "Total persons created: 3\n"
          ]
        }
      ]
    },
    {
      "cell_type": "markdown",
      "source": [
        "9. Write a class Fraction with attributes numerator and denominator. Override the str method to display the\n",
        "fraction as \"numerator/denominator\".\n"
      ],
      "metadata": {
        "id": "TOcwPBL4LUeg"
      }
    },
    {
      "cell_type": "code",
      "source": [
        "class Fraction:\n",
        "    def __init__(self, numerator, denominator):\n",
        "        self.numerator = numerator\n",
        "        self.denominator = denominator\n",
        "\n",
        "    # Override the str() method\n",
        "    def __str__(self):\n",
        "        return f\"{self.numerator}/{self.denominator}\"\n",
        "\n",
        "# Example usage\n",
        "f1 = Fraction(3, 4)\n",
        "f2 = Fraction(5, 8)\n",
        "\n",
        "print(f1)\n",
        "print(f2)\n"
      ],
      "metadata": {
        "colab": {
          "base_uri": "https://localhost:8080/"
        },
        "id": "WAndOYb6EfTl",
        "outputId": "8aac9796-af48-4225-99de-4568132daad1"
      },
      "execution_count": 4,
      "outputs": [
        {
          "output_type": "stream",
          "name": "stdout",
          "text": [
            "3/4\n",
            "5/8\n"
          ]
        }
      ]
    },
    {
      "cell_type": "markdown",
      "source": [
        "10. Demonstrate operator overloading by creating a class Vector and overriding the add method to add two\n",
        "vectors."
      ],
      "metadata": {
        "id": "axB6XkK0LfN9"
      }
    },
    {
      "cell_type": "code",
      "source": [
        "class Vector:\n",
        "    def __init__(self, x, y):\n",
        "        self.x = x\n",
        "        self.y = y\n",
        "\n",
        "    # Overload the + operator\n",
        "    def __add__(self, other):\n",
        "        if isinstance(other, Vector):\n",
        "            return Vector(self.x + other.x, self.y + other.y)\n",
        "        return NotImplemented\n",
        "\n",
        "    # For displaying the vector\n",
        "    def __str__(self):\n",
        "        return f\"({self.x}, {self.y})\"\n",
        "\n",
        "# Example usage\n",
        "v1 = Vector(2, 3)\n",
        "v2 = Vector(4, 5)\n",
        "v3 = v1 + v2\n",
        "\n",
        "print(\"v1:\", v1)\n",
        "print(\"v2:\", v2)\n",
        "print(\"v1 + v2 =\", v3)\n"
      ],
      "metadata": {
        "colab": {
          "base_uri": "https://localhost:8080/"
        },
        "id": "0h7yIyOuEveF",
        "outputId": "174d5a63-ab38-493d-8299-a373b980800f"
      },
      "execution_count": 5,
      "outputs": [
        {
          "output_type": "stream",
          "name": "stdout",
          "text": [
            "v1: (2, 3)\n",
            "v2: (4, 5)\n",
            "v1 + v2 = (6, 8)\n"
          ]
        }
      ]
    },
    {
      "cell_type": "markdown",
      "source": [
        "11. Create a class Person with attributes name and age. Add a method greet() that prints \"Hello, my name is\n",
        "{name} and I am {age} years old.\"\n",
        "\n",
        "\n"
      ],
      "metadata": {
        "id": "uTeFy0YZLip9"
      }
    },
    {
      "cell_type": "code",
      "source": [
        "class Person:\n",
        "    def __init__(self, name, age):\n",
        "        self.name = name\n",
        "        self.age = age\n",
        "\n",
        "    def greet(self):\n",
        "        print(f\"Hello, my name is {self.name} and I am {self.age} years old.\")\n",
        "\n",
        "# Example usage\n",
        "person1 = Person(\"John\", 30)\n",
        "person2 = Person(\"Ria\", 25)\n",
        "\n",
        "person1.greet()\n",
        "person2.greet()"
      ],
      "metadata": {
        "colab": {
          "base_uri": "https://localhost:8080/"
        },
        "id": "uO2ub8y3FCjW",
        "outputId": "6e0fe4e8-a135-432b-c86c-6ca72ba29333"
      },
      "execution_count": 6,
      "outputs": [
        {
          "output_type": "stream",
          "name": "stdout",
          "text": [
            "Hello, my name is John and I am 30 years old.\n",
            "Hello, my name is Ria and I am 25 years old.\n"
          ]
        }
      ]
    },
    {
      "cell_type": "markdown",
      "source": [
        "12. Implement a class Student with attributes name and grades. Create a method average_grade() to compute\n",
        "the average of the grades."
      ],
      "metadata": {
        "id": "jSwuwQPYLmAd"
      }
    },
    {
      "cell_type": "code",
      "source": [
        "class Student:\n",
        "    def __init__(self, name, grades):\n",
        "        self.name = name\n",
        "        self.grades = grades  # Expecting a list of numbers\n",
        "\n",
        "    def average_grade(self):\n",
        "        if not self.grades:\n",
        "            return 0  # Avoid division by zero\n",
        "        return sum(self.grades) / len(self.grades)\n",
        "\n",
        "# Example usage\n",
        "student1 = Student(\"Jhon\", [85, 90, 78])\n",
        "student2 = Student(\"Ria\", [72, 88, 95, 100])\n",
        "\n",
        "print(f\"{student1.name}'s average grade: {student1.average_grade():.2f}\")\n",
        "\n",
        "print(f\"{student2.name}'s average grade: {student2.average_grade():.2f}\")\n"
      ],
      "metadata": {
        "colab": {
          "base_uri": "https://localhost:8080/"
        },
        "id": "kfortDPPGNaA",
        "outputId": "018c41bf-e41a-400d-a1f7-0ec055d64638"
      },
      "execution_count": 7,
      "outputs": [
        {
          "output_type": "stream",
          "name": "stdout",
          "text": [
            "Jhon's average grade: 84.33\n",
            "Ria's average grade: 88.75\n"
          ]
        }
      ]
    },
    {
      "cell_type": "markdown",
      "source": [
        "13. Create a class Rectangle with methods set_dimensions() to set the dimensions and area() to calculate the\n",
        "area."
      ],
      "metadata": {
        "id": "6zqamx3pLphC"
      }
    },
    {
      "cell_type": "code",
      "source": [
        "class Rectangle:\n",
        "    def __init__(self):\n",
        "        self.length = 0\n",
        "        self.width = 0\n",
        "\n",
        "    # Method to set dimensions\n",
        "    def set_dimensions(self, length, width):\n",
        "        self.length = length\n",
        "        self.width = width\n",
        "\n",
        "    # Method to calculate area\n",
        "    def area(self):\n",
        "        return self.length * self.width\n",
        "\n",
        "# Example usage\n",
        "rect = Rectangle()\n",
        "rect.set_dimensions(5, 3)\n",
        "\n",
        "print(\"Area of rectangle:\", rect.area())\n"
      ],
      "metadata": {
        "colab": {
          "base_uri": "https://localhost:8080/"
        },
        "id": "Q5tDnqNiGhFB",
        "outputId": "e10774bb-8d5f-41f5-f3ff-918f6db7da98"
      },
      "execution_count": 8,
      "outputs": [
        {
          "output_type": "stream",
          "name": "stdout",
          "text": [
            "Area of rectangle: 15\n"
          ]
        }
      ]
    },
    {
      "cell_type": "markdown",
      "source": [
        "14. Create a class Employee with a method calculate_salary() that computes the salary based on hours worked\n",
        "and hourly rate. Create a derived class Manager that adds a bonus to the salary."
      ],
      "metadata": {
        "id": "ZhhJrJJgLt48"
      }
    },
    {
      "cell_type": "code",
      "source": [
        "class Employee:\n",
        "    def __init__(self, name, hours_worked, hourly_rate):\n",
        "        self.name = name\n",
        "        self.hours_worked = hours_worked\n",
        "        self.hourly_rate = hourly_rate\n",
        "\n",
        "    def calculate_salary(self):\n",
        "        return self.hours_worked * self.hourly_rate\n",
        "\n",
        "# Derived class Manager\n",
        "class Manager(Employee):\n",
        "    def __init__(self, name, hours_worked, hourly_rate, bonus):\n",
        "        super().__init__(name, hours_worked, hourly_rate)\n",
        "        self.bonus = bonus\n",
        "\n",
        "    def calculate_salary(self):\n",
        "        base_salary = super().calculate_salary()\n",
        "        return base_salary + self.bonus\n",
        "\n",
        "# Example usage\n",
        "emp = Employee(\"Alice\", 40, 20)\n",
        "mgr = Manager(\"Bob\", 45, 30, 500)\n",
        "\n",
        "print(f\"{emp.name}'s Salary: ${emp.calculate_salary()}\")\n",
        "print(f\"{mgr.name}'s Salary: ${mgr.calculate_salary()}\")\n",
        "\n"
      ],
      "metadata": {
        "colab": {
          "base_uri": "https://localhost:8080/"
        },
        "id": "nZKF3i-KGwNS",
        "outputId": "9a3d2e9c-8eae-460d-a447-8cbab028403d"
      },
      "execution_count": 9,
      "outputs": [
        {
          "output_type": "stream",
          "name": "stdout",
          "text": [
            "Alice's Salary: $800\n",
            "Bob's Salary: $1850\n"
          ]
        }
      ]
    },
    {
      "cell_type": "markdown",
      "source": [
        "15. Create a class Product with attributes name, price, and quantity. Implement a method total_price() that\n",
        "calculates the total price of the product.\n",
        "\n",
        "\n"
      ],
      "metadata": {
        "id": "t5ZdZZi-L1BR"
      }
    },
    {
      "cell_type": "code",
      "source": [
        "class Product:\n",
        "    def __init__(self, name, price, quantity):\n",
        "        self.name = name\n",
        "        self.price = price\n",
        "        self.quantity = quantity\n",
        "\n",
        "    def total_price(self):\n",
        "        return self.price * self.quantity\n",
        "\n",
        "# Example usage\n",
        "product = Product(\"Laptop\", 999.99, 3)\n",
        "print(f\"Total price for {product.quantity} {product.name}(s): ${product.total_price():.2f}\")\n",
        "\n"
      ],
      "metadata": {
        "colab": {
          "base_uri": "https://localhost:8080/"
        },
        "id": "O7iRtj8nHhl4",
        "outputId": "7a9fe976-d246-4021-f497-bd78c4459cea"
      },
      "execution_count": 10,
      "outputs": [
        {
          "output_type": "stream",
          "name": "stdout",
          "text": [
            "Total price for 3 Laptop(s): $2999.97\n"
          ]
        }
      ]
    },
    {
      "cell_type": "markdown",
      "source": [
        "16. Create a class Animal with an abstract method sound(). Create two derived classes Cow and Sheep that\n",
        "implement the sound() method."
      ],
      "metadata": {
        "id": "lFljGscZL4hV"
      }
    },
    {
      "cell_type": "code",
      "source": [
        "from abc import ABC, abstractmethod\n",
        "\n",
        "# Abstract base class\n",
        "class Animal(ABC):\n",
        "    @abstractmethod\n",
        "    def sound(self):\n",
        "        pass\n",
        "\n",
        "# Derived class Cow\n",
        "class Cow(Animal):\n",
        "    def sound(self):\n",
        "        print(\"Moo\")\n",
        "\n",
        "# Derived class Sheep\n",
        "class Sheep(Animal):\n",
        "    def sound(self):\n",
        "        print(\"Baa\")\n",
        "\n",
        "# Example usage\n",
        "cow = Cow()\n",
        "sheep = Sheep()\n",
        "\n",
        "cow.sound()\n",
        "sheep.sound()\n"
      ],
      "metadata": {
        "colab": {
          "base_uri": "https://localhost:8080/"
        },
        "id": "jKysLOTiHthv",
        "outputId": "e6e61e94-5e3f-4901-9e38-4985c351a1ff"
      },
      "execution_count": 11,
      "outputs": [
        {
          "output_type": "stream",
          "name": "stdout",
          "text": [
            "Moo\n",
            "Baa\n"
          ]
        }
      ]
    },
    {
      "cell_type": "markdown",
      "source": [
        "17. Create a class Book with attributes title, author, and year_published. Add a method get_book_info() that\n",
        "returns a formatted string with the book's details.\n"
      ],
      "metadata": {
        "id": "HRzlQ3kvL7n0"
      }
    },
    {
      "cell_type": "code",
      "source": [
        "class Book:\n",
        "    def __init__(self, title, author, year_published):\n",
        "        self.title = title\n",
        "        self.author = author\n",
        "        self.year_published = year_published\n",
        "\n",
        "    def get_book_info(self):\n",
        "        return f\"'{self.title}' by {self.author}, published in {self.year_published}\"\n",
        "\n",
        "# Example usage\n",
        "book = Book(\"1984\", \"George Orwell\", 1949)\n",
        "print(book.get_book_info())\n",
        "\n"
      ],
      "metadata": {
        "colab": {
          "base_uri": "https://localhost:8080/"
        },
        "id": "SwfRqVQ2H62Y",
        "outputId": "894cf5ca-0dd4-42f4-c256-10d6aeac6a50"
      },
      "execution_count": 12,
      "outputs": [
        {
          "output_type": "stream",
          "name": "stdout",
          "text": [
            "'1984' by George Orwell, published in 1949\n"
          ]
        }
      ]
    },
    {
      "cell_type": "markdown",
      "source": [
        "18. Create a class House with attributes address and price. Create a derived class Mansion that adds an\n",
        "attribute number_of_rooms"
      ],
      "metadata": {
        "id": "F4g2zlqmMB4Y"
      }
    },
    {
      "cell_type": "code",
      "source": [
        "class House:\n",
        "    def __init__(self, address, price):\n",
        "        self.address = address\n",
        "        self.price = price\n",
        "\n",
        "    def __str__(self):\n",
        "        return f\"House located at {self.address} priced at ${self.price}\"\n",
        "\n",
        "class Mansion(House):\n",
        "    def __init__(self, address, price, number_of_rooms):\n",
        "        super().__init__(address, price)\n",
        "        self.number_of_rooms = number_of_rooms\n",
        "\n",
        "    def __str__(self):\n",
        "        return (f\"Mansion located at {self.address}, priced at ${self.price}, \"\n",
        "                f\"with {self.number_of_rooms} rooms\")\n",
        "\n",
        "# Example usage\n",
        "house = House(\"123 Maple St\", 250000)\n",
        "mansion = Mansion(\"456 Oak Ave\", 2000000, 10)\n",
        "\n",
        "print(house)\n",
        "print(mansion)\n"
      ],
      "metadata": {
        "colab": {
          "base_uri": "https://localhost:8080/"
        },
        "id": "ZlrztpwOIFmV",
        "outputId": "b35c7966-7d12-4a24-eb07-88cf55cafe1a"
      },
      "execution_count": 13,
      "outputs": [
        {
          "output_type": "stream",
          "name": "stdout",
          "text": [
            "House located at 123 Maple St priced at $250000\n",
            "Mansion located at 456 Oak Ave, priced at $2000000, with 10 rooms\n"
          ]
        }
      ]
    }
  ]
}